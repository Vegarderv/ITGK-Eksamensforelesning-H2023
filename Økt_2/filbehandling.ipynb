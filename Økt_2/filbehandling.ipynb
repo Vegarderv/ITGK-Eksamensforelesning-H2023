{
 "cells": [
  {
   "cell_type": "markdown",
   "metadata": {},
   "source": [
    "# Filbehandling\n",
    "\n",
    "Filbehandlig er en sentral del av pensum i ITGK\n",
    "\n",
    "For å åpne en fil i python, bruker du open() funksjonen\n",
    "\n",
    "open() tar inn 2 parameter, filnavn og modus\n",
    "\n",
    "Det er 4 forskjellige moduser:\n",
    " - \"r\" - Dette er for å lese fila\n",
    " - \"w\" - Dette er for å overskrive fila\n",
    " - \"a\" - Dette er for å legge til i fila\n",
    " - \"x\" - dette er for å lage en ny fil. Returnerer error dersom fila allerede eksisterer (Dere kan for det meste se bort i fra denne)"
   ]
  },
  {
   "cell_type": "code",
   "execution_count": 1,
   "metadata": {},
   "outputs": [],
   "source": [
    "# skrive til fil\n",
    "def write_to_file(filename, text):\n",
    "    file = open(filename, \"w\")\n",
    "    file.write(text)\n",
    "    file.close()\n",
    "\n",
    "write_to_file(\"test.txt\", \"Bli med i interessegruppa AbaDisc! \\n\")"
   ]
  },
  {
   "cell_type": "code",
   "execution_count": 2,
   "metadata": {},
   "outputs": [
    {
     "name": "stdout",
     "output_type": "stream",
     "text": [
      "Bli med i interessegruppa AbaDisc! \n",
      "\n"
     ]
    }
   ],
   "source": [
    "def read_from_file(filename):\n",
    "    file = open(filename, \"r\")\n",
    "    print(file.read())\n",
    "    file.close()\n",
    "\n",
    "read_from_file(\"test.txt\")"
   ]
  },
  {
   "cell_type": "code",
   "execution_count": null,
   "metadata": {},
   "outputs": [],
   "source": [
    "def add_to_file(filename, text):\n",
    "    file = open(filename, \"a\")\n",
    "    file.write(text)\n",
    "    file.close()\n",
    "\n",
    "add_to_file(\"test.txt\", \"\\nDet er en skikkelig kul interessegruppe for de som liker, eller vil prøve, discgolf\")"
   ]
  },
  {
   "cell_type": "code",
   "execution_count": 6,
   "metadata": {},
   "outputs": [
    {
     "name": "stdout",
     "output_type": "stream",
     "text": [
      "\n",
      "Det er en skikkelig kul interessegruppe for de som liker, eller vil prøve, discgolf\n"
     ]
    }
   ],
   "source": [
    "read_from_file(\"test.txt\")"
   ]
  },
  {
   "cell_type": "markdown",
   "metadata": {},
   "source": [
    "# Live-kodeeksempel\n",
    "\n",
    "Se på filen \"stackoverflow.txt\".\n",
    "\n",
    "Fila inneholder en oversikt over alle transaksjoner en person har gjort i kiosken, og er skrevet på måten:\n",
    "\n",
    "Person : pris1, pris2, ..., prisN ; vare1, vare2, ..., vareN ; antall1, antall2, ..., antallN\n",
    "\n",
    "Dette skal du skrive ut:\n",
    "\n",
    "Person har kjøpt antall1 vare1 for pris1 kr, antall2 vare2 for pris2 kr og har handlet for x kr til sammen\n",
    "\n",
    "Eksempel:\n",
    "\n",
    "Anne Borg har kjøpt 4 kinder maxi for 24 kr, 12 drikkebuljong for 60 kr, 1 krus for 12 kr og har handlet for til sammen 96 kr"
   ]
  },
  {
   "cell_type": "code",
   "execution_count": 13,
   "metadata": {},
   "outputs": [
    {
     "name": "stdout",
     "output_type": "stream",
     "text": [
      "Vegard  har kjøpt  1  Pasta for  15kr,  2  Kider maxi for  12kr,  3  Kinder bueno for  18kr,  1  Cocio for  20kr,  1\n",
      "  Lasagne  for  25 kr, og har handlet for til sammen 90kr\n",
      "Lorgen  har kjøpt  1  Kopp  for  12 kr, og har handlet for til sammen 12kr\n"
     ]
    }
   ],
   "source": [
    "def linje_til_godt_format(linje):\n",
    "    person_og_resten = linje.split(\":\")\n",
    "    person = person_og_resten[0]\n",
    "    resten = person_og_resten[1]\n",
    "    priser, varer, antall = resten.split(\";\")\n",
    "    priser = priser.split(\",\")\n",
    "    varer = varer.split(\",\")\n",
    "    antall = antall.split(\",\")\n",
    "\n",
    "    start_string = person + \" har kjøpt \"\n",
    "    for i in range(len(priser)):\n",
    "        handels_string = f\"{antall[i]} {varer[i]} for {priser[i]}kr, \"\n",
    "        start_string = start_string + handels_string\n",
    "    \n",
    "    for i in range(len(priser)):\n",
    "        priser[i] = int(priser[i])\n",
    "    \n",
    "    priser = [int(element) for element in priser]\n",
    "\n",
    "    finished = start_string + f\"og har handlet for til sammen {sum(priser)}kr\"\n",
    "    return finished\n",
    "\n",
    "with open(\"stackoverflow.txt\", \"r\") as file:\n",
    "    for line in file.readlines():\n",
    "        print(linje_til_godt_format(line))"
   ]
  },
  {
   "cell_type": "code",
   "execution_count": null,
   "metadata": {},
   "outputs": [],
   "source": [
    "file = open(\"stackoverflow.txt\", \"r\")\n",
    "\n",
    "def linje_til_fin_streng(linje):\n",
    "    navn_og_resten = linje.split(\":\")\n",
    "\n",
    "    navn = navn_og_resten[0]\n",
    "    resten = navn_og_resten[1]\n",
    "\n",
    "    priser_ting_antall = resten.split(\";\")\n",
    "\n",
    "    priser = priser_ting_antall[0]\n",
    "    ting = priser_ting_antall[1]\n",
    "    antall = priser_ting_antall[2]\n",
    "\n",
    "    priser = priser.split(\",\")\n",
    "    ting = ting.split(\",\")\n",
    "    antall = antall.split(\",\")\n",
    "\n",
    "    slutt_streng = navn + \" har kjøpt \"\n",
    "    summen = 0\n",
    "    \n",
    "    for i in range(len(ting)):\n",
    "        slutt_streng += f\"{antall[i]} {ting[i]} for {int(antall[i]) * int(priser[i])}kr, \"\n",
    "        summen += int(antall[i]) * int(priser[i])\n",
    "    slutt_streng += f\"og har handlet for til sammen {summen}kr.\"\n",
    "    return slutt_streng\n",
    "    \n",
    "for line in file.readlines():\n",
    "    print(linje_til_fin_streng(line))\n",
    "    "
   ]
  }
 ],
 "metadata": {
  "kernelspec": {
   "display_name": "Python 3",
   "language": "python",
   "name": "python3"
  },
  "language_info": {
   "codemirror_mode": {
    "name": "ipython",
    "version": 3
   },
   "file_extension": ".py",
   "mimetype": "text/x-python",
   "name": "python",
   "nbconvert_exporter": "python",
   "pygments_lexer": "ipython3",
   "version": "3.12.5"
  },
  "orig_nbformat": 4
 },
 "nbformat": 4,
 "nbformat_minor": 2
}
