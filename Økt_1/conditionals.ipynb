{
 "cells": [
  {
   "cell_type": "markdown",
   "metadata": {},
   "source": [
    "# Kontrollstruktur\n",
    "## if-elif-else\n",
    "\n",
    "Hva om vi har kode som kun skal kjøres dersom en tilstand stemmer?\n",
    "\n",
    "**Eksempel:**\n",
    "Ta inn en streng og et tall fra bruker. Dersom strengen er lengre enn tallet gitt inn, skriv ut \"Lengre!\""
   ]
  },
  {
   "cell_type": "code",
   "execution_count": 1,
   "metadata": {},
   "outputs": [
    {
     "name": "stdout",
     "output_type": "stream",
     "text": [
      "Lengre!\n"
     ]
    }
   ],
   "source": [
    "streng = input(\"Skriv inn en streng: \")\n",
    "tall = int(input(\"Skriv inn et tall: \"))\n",
    "\n",
    "if len(streng) > tall:\n",
    "    print(\"Lengre!\")"
   ]
  },
  {
   "cell_type": "markdown",
   "metadata": {},
   "source": [
    "Hva om vi vil gi noe feedback når den ikke er lengre?"
   ]
  },
  {
   "cell_type": "code",
   "execution_count": 4,
   "metadata": {},
   "outputs": [
    {
     "name": "stdout",
     "output_type": "stream",
     "text": [
      "Kortere!\n"
     ]
    }
   ],
   "source": [
    "streng = input(\"Skriv inn en streng: \")\n",
    "tall = int(input(\"Skriv inn et tall: \"))\n",
    "\n",
    "if len(streng) > tall:\n",
    "    print(\"Lengre!\")\n",
    "else:\n",
    "    print(\"Kortere!\")"
   ]
  },
  {
   "cell_type": "markdown",
   "metadata": {},
   "source": [
    "Men hva om strengen er lik?"
   ]
  },
  {
   "cell_type": "code",
   "execution_count": 5,
   "metadata": {},
   "outputs": [
    {
     "name": "stdout",
     "output_type": "stream",
     "text": [
      "Lik!\n"
     ]
    }
   ],
   "source": [
    "streng = input(\"Skriv inn en streng: \")\n",
    "tall = int(input(\"Skriv inn et tall: \"))\n",
    "\n",
    "if len(streng) > tall:\n",
    "    print(\"Lengre!\")\n",
    "elif len(streng) == tall:\n",
    "    print(\"Lik!\")\n",
    "else:\n",
    "    print(\"Kortere!\")"
   ]
  },
  {
   "cell_type": "markdown",
   "metadata": {},
   "source": [
    "## and/or\n",
    "\n",
    "Hva om vi ønsker å kombinere flere boolske uttrykk?"
   ]
  },
  {
   "cell_type": "code",
   "execution_count": 6,
   "metadata": {},
   "outputs": [],
   "source": [
    "bool_1 = 3 > 5\n",
    "bool_2 = \"test\" == \"test\"\n",
    "\n",
    "bool_3 = bool_1 or bool_2\n",
    "bool_4 = bool_1 and bool_2"
   ]
  },
  {
   "cell_type": "markdown",
   "metadata": {},
   "source": [
    "Kan og gjøre dette rett i if-statements!"
   ]
  },
  {
   "cell_type": "code",
   "execution_count": 7,
   "metadata": {},
   "outputs": [
    {
     "name": "stdout",
     "output_type": "stream",
     "text": [
      "Hello\n"
     ]
    }
   ],
   "source": [
    "if 3 > 5 or \"test\" == \"test\":\n",
    "    print(\"Hello\")\n",
    "\n",
    "if 3 > 5 and \"test\" == \"test\":\n",
    "    print(\"Hello again\")"
   ]
  },
  {
   "cell_type": "markdown",
   "metadata": {},
   "source": [
    "Hva skjer i litt mer kompliserte tilfeller?"
   ]
  },
  {
   "cell_type": "code",
   "execution_count": 2,
   "metadata": {},
   "outputs": [
    {
     "name": "stdout",
     "output_type": "stream",
     "text": [
      "Again!\n",
      "What about now?\n"
     ]
    }
   ],
   "source": [
    "if False and True or True and True:\n",
    "    print(\"Again!\")\n",
    "\n",
    "if (False and True) or (True and True):\n",
    "    print(\"What about now?\")\n",
    "\n",
    "if False and (True or True) and True:\n",
    "    print(\"How about now?\")"
   ]
  },
  {
   "cell_type": "markdown",
   "metadata": {},
   "source": [
    "**NB!**"
   ]
  },
  {
   "cell_type": "code",
   "execution_count": 3,
   "metadata": {},
   "outputs": [],
   "source": [
    "my_var = 8\n",
    "if my_var == (7 or 8):\n",
    "    print(\"Looks good <3\") # Men gjør det det?"
   ]
  },
  {
   "cell_type": "markdown",
   "metadata": {},
   "source": [
    "Med `or` er dette to separate boolske uttrykk! De henger **ikke** sammen!"
   ]
  },
  {
   "cell_type": "code",
   "execution_count": 10,
   "metadata": {},
   "outputs": [
    {
     "name": "stdout",
     "output_type": "stream",
     "text": [
      "Nå blir det rett!\n"
     ]
    }
   ],
   "source": [
    "if my_var == 7 or my_var == 8:\n",
    "    print(\"Nå blir det rett!\")"
   ]
  },
  {
   "cell_type": "code",
   "execution_count": null,
   "metadata": {},
   "outputs": [
    {
     "ename": "TypeError",
     "evalue": "unhashable type: 'list'",
     "output_type": "error",
     "traceback": [
      "\u001b[1;31m---------------------------------------------------------------------------\u001b[0m",
      "\u001b[1;31mTypeError\u001b[0m                                 Traceback (most recent call last)",
      "Cell \u001b[1;32mIn[8], line 1\u001b[0m\n\u001b[1;32m----> 1\u001b[0m \u001b[38;5;28mdict\u001b[39m \u001b[38;5;241m=\u001b[39m {[\u001b[38;5;241m1\u001b[39m, \u001b[38;5;241m2\u001b[39m]: \u001b[38;5;241m2\u001b[39m}\n\u001b[0;32m      3\u001b[0m \u001b[38;5;28mdict\u001b[39m[[\u001b[38;5;241m1\u001b[39m, \u001b[38;5;241m2\u001b[39m]]\n",
      "\u001b[1;31mTypeError\u001b[0m: unhashable type: 'list'"
     ]
    }
   ],
   "source": [
    "dict = {True: 2}\n",
    "\n",
    "dict[True]"
   ]
  }
 ],
 "metadata": {
  "kernelspec": {
   "display_name": "Python 3",
   "language": "python",
   "name": "python3"
  },
  "language_info": {
   "codemirror_mode": {
    "name": "ipython",
    "version": 3
   },
   "file_extension": ".py",
   "mimetype": "text/x-python",
   "name": "python",
   "nbconvert_exporter": "python",
   "pygments_lexer": "ipython3",
   "version": "3.12.5"
  },
  "orig_nbformat": 4
 },
 "nbformat": 4,
 "nbformat_minor": 2
}
