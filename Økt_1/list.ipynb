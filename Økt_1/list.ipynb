{
 "cells": [
  {
   "cell_type": "markdown",
   "metadata": {},
   "source": [
    "# Lister\n",
    "\n",
    "Dersom man vil lagre flere verdier i samme variabel, kan man bruke liste\n",
    "Liste markeres med flate paranteser \"[ ]\""
   ]
  },
  {
   "cell_type": "code",
   "execution_count": 1,
   "metadata": {},
   "outputs": [
    {
     "name": "stdout",
     "output_type": "stream",
     "text": [
      "[2, 3, 5, 7, 11, 13]\n"
     ]
    }
   ],
   "source": [
    "min_liste = [2, 3, 5, 7, 11, 13]\n",
    "print(min_liste)"
   ]
  },
  {
   "cell_type": "markdown",
   "metadata": {},
   "source": [
    "Dersom man vil aksesseren et element i listen, bruker man index. OBS: Index starter på 0"
   ]
  },
  {
   "cell_type": "code",
   "execution_count": 2,
   "metadata": {},
   "outputs": [
    {
     "name": "stdout",
     "output_type": "stream",
     "text": [
      "2\n",
      "5\n"
     ]
    }
   ],
   "source": [
    "print(min_liste[0])\n",
    "print(min_liste[2])"
   ]
  },
  {
   "cell_type": "markdown",
   "metadata": {},
   "source": [
    "Dersom man vil aksessere det siste elementet i en liste, kan man bruke -1 (-2 vil være det nest siste, osv...)"
   ]
  },
  {
   "cell_type": "code",
   "execution_count": 3,
   "metadata": {},
   "outputs": [
    {
     "name": "stdout",
     "output_type": "stream",
     "text": [
      "13\n",
      "7\n"
     ]
    }
   ],
   "source": [
    "print(min_liste[-1])\n",
    "print(min_liste[-3])"
   ]
  },
  {
   "cell_type": "markdown",
   "metadata": {},
   "source": [
    "Grunnleggende funksjoner man kan bruke i lister:\n",
    "\n",
    "- List.append() - Legger til et elemement i slutten av lista\n",
    "- len(List) - antall elementer i lista\n",
    "- \\+  Legge sammen lister\n",
    "- \\*  gjenta lister"
   ]
  },
  {
   "cell_type": "code",
   "execution_count": 3,
   "metadata": {},
   "outputs": [
    {
     "name": "stdout",
     "output_type": "stream",
     "text": [
      "[2, 3, 5, 7, 11, 13, 17]\n",
      "7\n",
      "[2, 3, 5, 7, 11, 13, 17, 19]\n",
      "[2, 3, 5, 7, 11, 13, 17, 19, 2, 3, 5, 7, 11, 13, 17, 19]\n"
     ]
    }
   ],
   "source": [
    "min_liste.append(17)\n",
    "print(min_liste)\n",
    "print(len(min_liste))\n",
    "min_liste = min_liste + [19]\n",
    "print(min_liste)\n",
    "print(min_liste * 2)"
   ]
  },
  {
   "cell_type": "markdown",
   "metadata": {},
   "source": [
    "Du har også **tupler** som fungerer på mye samme måte som lister, men som ikke er **muterbare**"
   ]
  },
  {
   "cell_type": "code",
   "execution_count": null,
   "metadata": {},
   "outputs": [
    {
     "name": "stdout",
     "output_type": "stream",
     "text": [
      "2\n"
     ]
    }
   ],
   "source": [
    "min_tuppel = (1,2,3)\n",
    "min_tuppel = list(min_tuppel)\n",
    "print(min_tuppel[1])\n",
    "variamin_tuppel[1] = 3"
   ]
  },
  {
   "cell_type": "code",
   "execution_count": null,
   "metadata": {},
   "outputs": [
    {
     "name": "stdout",
     "output_type": "stream",
     "text": [
      "2 8 10\n"
     ]
    }
   ],
   "source": [
    "var = 7\n",
    "\n",
    "def funksjon(a, b, c):\n",
    "    c = c * 2\n",
    "    print(a, b, c)\n",
    "\n",
    "funksjon(2, 8, 5)"
   ]
  },
  {
   "cell_type": "code",
   "execution_count": 24,
   "metadata": {},
   "outputs": [
    {
     "name": "stdout",
     "output_type": "stream",
     "text": [
      "[0, 1, 2, 3, 4, 5, 6, 7, 8, 9]\n"
     ]
    },
    {
     "ename": "IndexError",
     "evalue": "list index out of range",
     "output_type": "error",
     "traceback": [
      "\u001b[1;31m---------------------------------------------------------------------------\u001b[0m",
      "\u001b[1;31mIndexError\u001b[0m                                Traceback (most recent call last)",
      "Cell \u001b[1;32mIn[24], line 7\u001b[0m\n\u001b[0;32m      3\u001b[0m     liste\u001b[38;5;241m.\u001b[39mappend(i)\n\u001b[0;32m      5\u001b[0m \u001b[38;5;28mprint\u001b[39m(liste)\n\u001b[1;32m----> 7\u001b[0m \u001b[38;5;28mprint\u001b[39m(\u001b[43mliste\u001b[49m\u001b[43m[\u001b[49m\u001b[38;5;241;43m10\u001b[39;49m\u001b[43m]\u001b[49m)\n",
      "\u001b[1;31mIndexError\u001b[0m: list index out of range"
     ]
    }
   ],
   "source": [
    "\n",
    "liste = []\n",
    "for i in range(10):\n",
    "    liste.append(i)\n",
    "\n",
    "print(liste)\n",
    "\n",
    "print(liste[10])"
   ]
  }
 ],
 "metadata": {
  "kernelspec": {
   "display_name": "Python 3",
   "language": "python",
   "name": "python3"
  },
  "language_info": {
   "codemirror_mode": {
    "name": "ipython",
    "version": 3
   },
   "file_extension": ".py",
   "mimetype": "text/x-python",
   "name": "python",
   "nbconvert_exporter": "python",
   "pygments_lexer": "ipython3",
   "version": "3.12.5"
  },
  "orig_nbformat": 4
 },
 "nbformat": 4,
 "nbformat_minor": 2
}
