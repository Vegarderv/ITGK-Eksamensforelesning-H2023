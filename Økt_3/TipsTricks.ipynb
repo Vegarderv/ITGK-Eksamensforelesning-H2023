{
 "cells": [
  {
   "cell_type": "markdown",
   "metadata": {},
   "source": [
    "# Tips & Tricks\n",
    "\n",
    "### enumerate\n",
    "Dersom du vil iterere igjennom en liste, og samtidig ha element og index, kan du bruke enumerate"
   ]
  },
  {
   "cell_type": "code",
   "execution_count": 1,
   "metadata": {},
   "outputs": [
    {
     "name": "stdout",
     "output_type": "stream",
     "text": [
      "Katt har index 0\n",
      "Hund har index 1\n",
      "Hamster har index 2\n",
      "Papegøye har index 3\n",
      "Vaskebjørn har index 4\n"
     ]
    }
   ],
   "source": [
    "liste = [\"Katt\", \"Hund\", \"Hamster\", \"Papegøye\", \"Vaskebjørn\"]\n",
    "for index, element in enumerate(liste):\n",
    "    print(f\"{element} har index {index}\")"
   ]
  },
  {
   "cell_type": "markdown",
   "metadata": {},
   "source": [
    "### randint\n",
    "\n",
    "Generer et tilfeldig tall mellom `start` og `slutt` (**NB!** `slutt` er inkludert)."
   ]
  },
  {
   "cell_type": "code",
   "execution_count": 3,
   "metadata": {},
   "outputs": [
    {
     "name": "stdout",
     "output_type": "stream",
     "text": [
      "Et tilfeldig tall mellom 0 og 100: 74\n"
     ]
    }
   ],
   "source": [
    "from random import randrange\n",
    "\n",
    "print(f\"Et tilfeldig tall mellom 0 og 100: {randrange(0, 100)}\")"
   ]
  },
  {
   "cell_type": "markdown",
   "metadata": {},
   "source": [
    "### zip\n",
    "\n",
    "Iterer gjennom 2 lister samtidig."
   ]
  },
  {
   "cell_type": "code",
   "execution_count": 4,
   "metadata": {},
   "outputs": [
    {
     "name": "stdout",
     "output_type": "stream",
     "text": [
      "Katt sier Mjau\n",
      "Hund sier Voff\n",
      "Hamster sier Pip\n",
      "Papegøye sier Hei\n",
      "Vaskebjørn sier ???\n",
      "Katt sier Mjau\n",
      "Hund sier Voff\n",
      "Hamster sier Pip\n",
      "Papegøye sier Hei\n",
      "Vaskebjørn sier ???\n"
     ]
    }
   ],
   "source": [
    "animals = [\"Katt\", \"Hund\", \"Hamster\", \"Papegøye\", \"Vaskebjørn\"]\n",
    "sounds = [\"Mjau\", \"Voff\", \"Pip\", \"Hei\", \"???\"]\n",
    "\n",
    "for i in range(len(animals)):\n",
    "    print(f\"{animals[i]} sier {sounds[i]}\")\n",
    "\n",
    "for animal, sound in zip(animals, sounds):\n",
    "    print(f\"{animal} sier {sound}\")"
   ]
  },
  {
   "cell_type": "markdown",
   "metadata": {},
   "source": [
    "### min/max\n",
    "\n",
    "Returnerer det minste/største elementet i en liste/set."
   ]
  },
  {
   "cell_type": "code",
   "execution_count": 5,
   "metadata": {},
   "outputs": [
    {
     "name": "stdout",
     "output_type": "stream",
     "text": [
      "Minste element: 160\n",
      "Største element: 9932\n"
     ]
    }
   ],
   "source": [
    "from random import randint\n",
    "\n",
    "some_random_numbers = []\n",
    "for i in range(100):\n",
    "    some_random_numbers.append(randint(0, 10000))\n",
    "\n",
    "print(f\"Minste element: {min(some_random_numbers)}\")\n",
    "print(f\"Største element: {max(some_random_numbers)}\")"
   ]
  },
  {
   "cell_type": "markdown",
   "metadata": {},
   "source": [
    "### any\n",
    "\n",
    "Returnerer `True` om noe i listen er sant"
   ]
  },
  {
   "cell_type": "code",
   "execution_count": 6,
   "metadata": {},
   "outputs": [
    {
     "name": "stdout",
     "output_type": "stream",
     "text": [
      "Er noe sant? True\n"
     ]
    }
   ],
   "source": [
    "min_boolske_liste = [False, False, False, True]\n",
    "\n",
    "print(f\"Er noe sant? {any(min_boolske_liste)}\")"
   ]
  },
  {
   "cell_type": "markdown",
   "metadata": {},
   "source": [
    "### all\n",
    "\n",
    "Returnerer `True` dersom alt i listen er sant"
   ]
  },
  {
   "cell_type": "code",
   "execution_count": 7,
   "metadata": {},
   "outputs": [
    {
     "name": "stdout",
     "output_type": "stream",
     "text": [
      "Er alt sant? False\n"
     ]
    }
   ],
   "source": [
    "print(f\"Er alt sant? {all(min_boolske_liste)}\")"
   ]
  },
  {
   "cell_type": "markdown",
   "metadata": {},
   "source": [
    "### sorted\n",
    "\n",
    "Returnerer en sortert liste"
   ]
  },
  {
   "cell_type": "code",
   "execution_count": 8,
   "metadata": {},
   "outputs": [
    {
     "name": "stdout",
     "output_type": "stream",
     "text": [
      "Kaos: [3568, 8735, 8312, 7276, 871, 527, 2103, 3804, 4253, 6561, 7737, 2481, 1675, 3622, 5673, 5486, 2672, 1486, 5351, 694, 9932, 8513, 906, 4184, 6830, 494, 5957, 2835, 8803, 7731, 7928, 9195, 5585, 3750, 1732, 4709, 8440, 8070, 6298, 3491, 7380, 9159, 3091, 8926, 1108, 7583, 1598, 5940, 5379, 9564, 1386, 3417, 8158, 5017, 3992, 1198, 4979, 5216, 1433, 8217, 7954, 3441, 5905, 3283, 6474, 1677, 3372, 3586, 6257, 1619, 1349, 7445, 2077, 9485, 7709, 2163, 1429, 1830, 9549, 818, 2037, 1213, 2587, 9237, 1069, 8114, 7336, 1484, 5124, 1605, 2160, 1955, 9265, 4696, 2638, 7613, 343, 160, 3518, 5416]\n",
      "Ikke kaos: [160, 343, 494, 527, 694, 818, 871, 906, 1069, 1108, 1198, 1213, 1349, 1386, 1429, 1433, 1484, 1486, 1598, 1605, 1619, 1675, 1677, 1732, 1830, 1955, 2037, 2077, 2103, 2160, 2163, 2481, 2587, 2638, 2672, 2835, 3091, 3283, 3372, 3417, 3441, 3491, 3518, 3568, 3586, 3622, 3750, 3804, 3992, 4184, 4253, 4696, 4709, 4979, 5017, 5124, 5216, 5351, 5379, 5416, 5486, 5585, 5673, 5905, 5940, 5957, 6257, 6298, 6474, 6561, 6830, 7276, 7336, 7380, 7445, 7583, 7613, 7709, 7731, 7737, 7928, 7954, 8070, 8114, 8158, 8217, 8312, 8440, 8513, 8735, 8803, 8926, 9159, 9195, 9237, 9265, 9485, 9549, 9564, 9932]\n"
     ]
    }
   ],
   "source": [
    "print(f\"Kaos: {some_random_numbers}\")\n",
    "print(f\"Ikke kaos: {sorted(some_random_numbers)}\")"
   ]
  },
  {
   "cell_type": "markdown",
   "metadata": {},
   "source": [
    "**NB!** `sorted` endrer ikke listen, men `.sort()` gjør"
   ]
  },
  {
   "cell_type": "code",
   "execution_count": 9,
   "metadata": {},
   "outputs": [
    {
     "name": "stdout",
     "output_type": "stream",
     "text": [
      "Fortsatt kaos: [3568, 8735, 8312, 7276, 871, 527, 2103, 3804, 4253, 6561, 7737, 2481, 1675, 3622, 5673, 5486, 2672, 1486, 5351, 694, 9932, 8513, 906, 4184, 6830, 494, 5957, 2835, 8803, 7731, 7928, 9195, 5585, 3750, 1732, 4709, 8440, 8070, 6298, 3491, 7380, 9159, 3091, 8926, 1108, 7583, 1598, 5940, 5379, 9564, 1386, 3417, 8158, 5017, 3992, 1198, 4979, 5216, 1433, 8217, 7954, 3441, 5905, 3283, 6474, 1677, 3372, 3586, 6257, 1619, 1349, 7445, 2077, 9485, 7709, 2163, 1429, 1830, 9549, 818, 2037, 1213, 2587, 9237, 1069, 8114, 7336, 1484, 5124, 1605, 2160, 1955, 9265, 4696, 2638, 7613, 343, 160, 3518, 5416]\n",
      "Ikke kaos (?): [160, 343, 494, 527, 694, 818, 871, 906, 1069, 1108, 1198, 1213, 1349, 1386, 1429, 1433, 1484, 1486, 1598, 1605, 1619, 1675, 1677, 1732, 1830, 1955, 2037, 2077, 2103, 2160, 2163, 2481, 2587, 2638, 2672, 2835, 3091, 3283, 3372, 3417, 3441, 3491, 3518, 3568, 3586, 3622, 3750, 3804, 3992, 4184, 4253, 4696, 4709, 4979, 5017, 5124, 5216, 5351, 5379, 5416, 5486, 5585, 5673, 5905, 5940, 5957, 6257, 6298, 6474, 6561, 6830, 7276, 7336, 7380, 7445, 7583, 7613, 7709, 7731, 7737, 7928, 7954, 8070, 8114, 8158, 8217, 8312, 8440, 8513, 8735, 8803, 8926, 9159, 9195, 9237, 9265, 9485, 9549, 9564, 9932]\n"
     ]
    }
   ],
   "source": [
    "print(f\"Fortsatt kaos: {some_random_numbers}\")\n",
    "some_random_numbers.sort()\n",
    "print(f\"Ikke kaos (?): {some_random_numbers}\")"
   ]
  },
  {
   "cell_type": "markdown",
   "metadata": {},
   "source": [
    "### set/list\n",
    "\n",
    "Lager et nytt set/ny liste av det du gir inn. Benytt sammen med `range` for kule greier"
   ]
  },
  {
   "cell_type": "code",
   "execution_count": 13,
   "metadata": {},
   "outputs": [
    {
     "name": "stdout",
     "output_type": "stream",
     "text": [
      "[1, 2, 3, 4, 5, 6, 7, 8, 9, 10]\n",
      "{1, 2, 3, 4, 5, 6, 7, 8, 9, 10}\n",
      "[1, 2, 3, 4, 5, 6, 7, 8, 9, 10]\n"
     ]
    }
   ],
   "source": [
    "import pickle\n",
    "\n",
    "liste_med_tall = list(range(1, 11))\n",
    "set_med_tall = set(range(1, 11))\n",
    "print(liste_med_tall)\n",
    "print(set_med_tall)\n",
    "\n",
    "\n",
    "#Pickle eksempel fra pause\n",
    "file= open(\"test.txt\", \"wb\")\n",
    "file.write(pickle.dumps(liste_med_tall))\n",
    "file.close()\n",
    "\n",
    "file = open(\"test.txt\", \"rb\")\n",
    "liste = pickle.loads(file.read())\n",
    "print(liste)"
   ]
  },
  {
   "cell_type": "markdown",
   "metadata": {},
   "source": [
    "### `+=`/`-=`/`/=`/`*=`/`%=`\n",
    "\n",
    "Kort for f. eks. `tall = tall + 2` $\\rightarrow$ `tall += 2`"
   ]
  },
  {
   "cell_type": "code",
   "execution_count": 13,
   "metadata": {},
   "outputs": [],
   "source": [
    "tall = 5\n",
    "tall += 3\n",
    "tall -= 3\n",
    "tall *= 2\n",
    "tall /= 2\n",
    "tall %= 5"
   ]
  },
  {
   "cell_type": "markdown",
   "metadata": {},
   "source": [
    "### .join(strenger)\n",
    "\n",
    "Sett sammen en liste strenger"
   ]
  },
  {
   "cell_type": "code",
   "execution_count": 10,
   "metadata": {},
   "outputs": [
    {
     "name": "stdout",
     "output_type": "stream",
     "text": [
      "Dette er strenger som skal settes sammen!\n",
      "Dette, er, strenger, som, skal, settes, sammen!\n"
     ]
    }
   ],
   "source": [
    "liste_med_strenger = [\"Dette\", \"er\", \"strenger\", \"som\", \"skal\", \"settes\", \"sammen!\"]\n",
    "print(\" \".join(liste_med_strenger))\n",
    "print(\", \".join(liste_med_strenger))"
   ]
  }
 ],
 "metadata": {
  "kernelspec": {
   "display_name": "Python 3",
   "language": "python",
   "name": "python3"
  },
  "language_info": {
   "codemirror_mode": {
    "name": "ipython",
    "version": 3
   },
   "file_extension": ".py",
   "mimetype": "text/x-python",
   "name": "python",
   "nbconvert_exporter": "python",
   "pygments_lexer": "ipython3",
   "version": "3.12.5"
  },
  "orig_nbformat": 4
 },
 "nbformat": 4,
 "nbformat_minor": 2
}
